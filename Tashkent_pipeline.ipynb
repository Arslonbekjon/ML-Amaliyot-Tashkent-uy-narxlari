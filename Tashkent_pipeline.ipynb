{
  "nbformat": 4,
  "nbformat_minor": 0,
  "metadata": {
    "colab": {
      "provenance": [],
      "gpuType": "T4",
      "authorship_tag": "ABX9TyOZZzmHb95iUqPl+JZDrUPj",
      "include_colab_link": true
    },
    "kernelspec": {
      "name": "python3",
      "display_name": "Python 3"
    },
    "language_info": {
      "name": "python"
    },
    "accelerator": "GPU"
  },
  "cells": [
    {
      "cell_type": "markdown",
      "metadata": {
        "id": "view-in-github",
        "colab_type": "text"
      },
      "source": [
        "<a href=\"https://colab.research.google.com/github/Arslonbekjon/ML-Amaliyot-Tashkent-uy-narxlari/blob/main/Tashkent_pipeline.ipynb\" target=\"_parent\"><img src=\"https://colab.research.google.com/assets/colab-badge.svg\" alt=\"Open In Colab\"/></a>"
      ]
    },
    {
      "cell_type": "code",
      "execution_count": 1,
      "metadata": {
        "id": "qz4psTW8BzCB"
      },
      "outputs": [],
      "source": [
        "import pandas as pd\n",
        "import numpy as np\n",
        "import sklearn\n",
        "\n",
        "URL = \"https://raw.githubusercontent.com/anvarnarz/praktikum_datasets/main/housing_data_08-02-2021.csv\"\n",
        "df = pd.read_csv(URL)\n",
        "\n",
        "#\n",
        "dfp = df[df['price']==\"Договорная\"].index\n",
        "df.drop(dfp,inplace=True)\n",
        "df['price'] = df['price'].astype(float)\n",
        "\n",
        "dfs = df[df['size']==\"Площадьземли:1сот\"].index\n",
        "df.drop(dfs,inplace=True)\n",
        "df['size'] = df['size'].astype(float)\n",
        "\n",
        "\n",
        "dfss = df[df['size']>160].index\n",
        "df.drop(dfss,inplace=True)\n",
        "\n",
        "dfpr = df[df['price']>1000000].index\n",
        "df.drop(dfpr,inplace=True)\n",
        "\n",
        "\"\"\"df_onehot = pd.get_dummies(df['district'])\n",
        "df_onehot\n",
        "\n",
        "df = pd.concat([df,df_onehot],axis=1)\n",
        "\"\"\"\n",
        "\n",
        "from sklearn.model_selection import train_test_split\n",
        "train_set, test_set = train_test_split(df, test_size=0.2, random_state=42)\n",
        "\n",
        "housing = train_set.drop('price', axis=1)\n",
        "housing_labels = train_set['price'].copy()\n",
        "\n",
        "housing_num = housing.drop(['location','district'], axis=1)\n"
      ]
    },
    {
      "cell_type": "code",
      "source": [
        "from sklearn.pipeline import Pipeline\n",
        "from sklearn.preprocessing import OneHotEncoder, StandardScaler\n",
        "\n",
        "num_pipeline = Pipeline([\n",
        "    ('Standartizatsiya', StandardScaler())\n",
        "])\n",
        "\n",
        "num_pipeline.fit_transform(housing_num)"
      ],
      "metadata": {
        "colab": {
          "base_uri": "https://localhost:8080/"
        },
        "id": "8XvMAK0UHlEW",
        "outputId": "5d2fdb09-7b37-4424-a055-2b5d08e54022"
      },
      "execution_count": 3,
      "outputs": [
        {
          "output_type": "execute_result",
          "data": {
            "text/plain": [
              "array([[-0.55016038, -0.64393601, -1.21002598, -0.76554229],\n",
              "       [ 0.45060261,  1.76619349, -1.21002598,  0.77071621],\n",
              "       [-0.55016038, -0.56618989, -0.30718443, -0.76554229],\n",
              "       ...,\n",
              "       [-0.55016038,  0.05577901,  0.14423634, -0.38147766],\n",
              "       [ 0.45060261, -0.48844378,  0.59565712, -0.38147766],\n",
              "       [-0.55016038, -0.72168212,  0.14423634, -0.76554229]])"
            ]
          },
          "metadata": {},
          "execution_count": 3
        }
      ]
    },
    {
      "cell_type": "code",
      "source": [
        "from sklearn.compose import ColumnTransformer\n",
        "\n",
        "num_attribs = list(housing_num)\n",
        "categ_atribs = ['district']\n",
        "\n",
        "\n",
        "full_pipeline = ColumnTransformer([\n",
        "    ('num', num_pipeline, num_attribs),\n",
        "    ('categ', OneHotEncoder(), categ_atribs)\n",
        "])\n"
      ],
      "metadata": {
        "id": "Wo4q2SVvJ6dV"
      },
      "execution_count": 4,
      "outputs": []
    },
    {
      "cell_type": "code",
      "source": [
        "housing_prepared = full_pipeline.fit_transform(housing)"
      ],
      "metadata": {
        "id": "RQ1CZ0OPLPNl"
      },
      "execution_count": 5,
      "outputs": []
    }
  ]
}